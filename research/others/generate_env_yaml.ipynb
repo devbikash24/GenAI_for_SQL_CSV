{
 "cells": [
  {
   "cell_type": "code",
   "execution_count": null,
   "metadata": {},
   "outputs": [],
   "source": [
    "# from pathlib import Path\n",
    "\n",
    "# def generate_env_file():\n",
    "#     env_content = (\n",
    "#         \"OPENAI_API_KEY=your_openai_api_key\\n\"\n",
    "#         \"OPENAI_API_BASE=your_openai_api_base_url\\n\"\n",
    "#         \"OPENAI_API_VERSION=2023-08-01-preview\\n\"\n",
    "#         \"GPT_DEPLOYMENT_NAME=llama3_deployment\\n\"\n",
    "#         \"EMBED_DEPLOYMENT_NAME=embed_model_deployment\\n\"\n",
    "#     )\n",
    "\n",
    "#     env_path = Path(\".env\")\n",
    "#     if not env_path.exists():\n",
    "#         env_path.write_text(env_content)\n",
    "#         print(\".env file created successfully.\")\n",
    "#     else:\n",
    "#         print(\".env file already exists.\")\n"
   ]
  },
  {
   "cell_type": "code",
   "execution_count": null,
   "metadata": {},
   "outputs": [],
   "source": [
    "# import yaml\n",
    "\n",
    "# def generate_yaml_file():\n",
    "#     config_content = {\n",
    "#         \"directories\": {\n",
    "#             \"stored_csv_xlsx_directory\": \"data/csv_xlsx\",\n",
    "#             \"sqldb_directory\": \"data/sqldb\",\n",
    "#             \"uploaded_files_sqldb_directory\": \"data/uploaded_files_sqldb\",\n",
    "#             \"stored_csv_xlsx_sqldb_directory\": \"data/stored_csv_xlsx_sqldb\",\n",
    "#             \"persist_directory\": \"data/persistence\"\n",
    "#         },\n",
    "#         \"llm_config\": {\n",
    "#             \"agent_llm_system_role\": \"You are an assistant that helps with data-related tasks.\",\n",
    "#             \"rag_llm_system_role\": \"You retrieve information and provide detailed answers.\",\n",
    "#             \"temperature\": 0.7\n",
    "#         },\n",
    "#         \"rag_config\": {\n",
    "#             \"collection_name\": \"document_embeddings\",\n",
    "#             \"top_k\": 5\n",
    "#         }\n",
    "#     }\n",
    "\n",
    "#     config_path = Path(\"configs/app_config.yml\")\n",
    "#     config_path.parent.mkdir(parents=True, exist_ok=True)  # Ensure the 'configs' directory exists\n",
    "\n",
    "#     if not config_path.exists():\n",
    "#         with config_path.open(\"w\") as file:\n",
    "#             yaml.dump(config_content, file)\n",
    "#         print(\"app_config.yml file created successfully.\")\n",
    "#     else:\n",
    "#         print(\"app_config.yml file already exists.\")\n"
   ]
  },
  {
   "cell_type": "code",
   "execution_count": null,
   "metadata": {},
   "outputs": [],
   "source": []
  }
 ],
 "metadata": {
  "language_info": {
   "name": "python"
  }
 },
 "nbformat": 4,
 "nbformat_minor": 2
}
