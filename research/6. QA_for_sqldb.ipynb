{
 "cells": [
  {
   "cell_type": "markdown",
   "metadata": {},
   "source": [
    "https://github.com/Ne0bliviscaris/Ollama-SQLite-RAG/blob/main/test_field.ipynb\n",
    "https://github.com/TheAILearner/Langchain-Agents/blob/main/Dynamic%20Few-shot%20Prompting%20with%20Llama%203.ipynb"
   ]
  },
  {
   "cell_type": "code",
   "execution_count": 3,
   "metadata": {},
   "outputs": [],
   "source": [
    "from langchain_community.utilities import SQLDatabase\n"
   ]
  },
  {
   "cell_type": "code",
   "execution_count": 4,
   "metadata": {},
   "outputs": [],
   "source": [
    "# connecting to sqldb \n",
    "db_path = \"sqlite:///\" + r\"D:\\Generative AI\\generative ai project\\QA_SQL_Tabular_data\\data\\sqldb.db\"\n",
    "\n",
    "db = SQLDatabase.from_uri(db_path)"
   ]
  },
  {
   "cell_type": "code",
   "execution_count": 5,
   "metadata": {},
   "outputs": [
    {
     "data": {
      "text/plain": [
       "<langchain_community.utilities.sql_database.SQLDatabase at 0x1b20668b740>"
      ]
     },
     "execution_count": 5,
     "metadata": {},
     "output_type": "execute_result"
    }
   ],
   "source": [
    "db"
   ]
  },
  {
   "cell_type": "code",
   "execution_count": 6,
   "metadata": {},
   "outputs": [
    {
     "name": "stdout",
     "output_type": "stream",
     "text": [
      "sqlite\n",
      "['Album', 'Artist', 'Customer', 'Employee', 'Genre', 'Invoice', 'InvoiceLine', 'MediaType', 'Playlist', 'PlaylistTrack', 'Track']\n"
     ]
    },
    {
     "data": {
      "text/plain": [
       "\"[(1, 'AC/DC'), (2, 'Accept'), (3, 'Aerosmith'), (4, 'Alanis Morissette'), (5, 'Alice In Chains'), (6, 'Antônio Carlos Jobim'), (7, 'Apocalyptica'), (8, 'Audioslave'), (9, 'BackBeat'), (10, 'Billy Cobham')]\""
      ]
     },
     "execution_count": 6,
     "metadata": {},
     "output_type": "execute_result"
    }
   ],
   "source": [
    "# check the connection\n",
    "print(db.dialect)\n",
    "print(db.get_usable_table_names())\n",
    "db.run(\"SELECT * FROM Artist LIMIT 10;\")"
   ]
  },
  {
   "cell_type": "code",
   "execution_count": 7,
   "metadata": {},
   "outputs": [],
   "source": []
  },
  {
   "cell_type": "markdown",
   "metadata": {},
   "source": [
    "## TRY LLAMA MODEL"
   ]
  },
  {
   "cell_type": "code",
   "execution_count": 8,
   "metadata": {},
   "outputs": [],
   "source": [
    "from langchain_community.llms import Ollama\n",
    "# messages = [\n",
    "#     {\"role\": \"system\", \"content\": str(\n",
    "#         \"You are a helpful assistant\"\n",
    "#     )},\n",
    "#     {\"role\": \"user\", \"content\": str(\"hello\")}\n",
    "# ]\n",
    "\n",
    "client = Ollama(base_url='http://localhost:11434', model='llama3', temperature=0.0)\n",
    "\n",
    "\n",
    "# response = client.invoke(\n",
    "#     messages\n",
    "# )\n",
    "\n",
    "# print(response)\n"
   ]
  },
  {
   "cell_type": "code",
   "execution_count": 7,
   "metadata": {},
   "outputs": [],
   "source": [
    "# from langchain.chains import create_sql_query_chain\n",
    "# chain = create_sql_query_chain(client, db)\n",
    "# STATIC_MESSAGE = 'You are an experienced data scientist. Answer the question verbally and add the SQL query to prove it. Make the query one line so it is easy to test. Use the simplest and most efficient query'\n",
    "# # Main question\n",
    "# QUESTION = \"How many employees are there\"\n",
    "# # Generate response\n",
    "# response = chain.invoke({f\"question\": f\"{QUESTION} {STATIC_MESSAGE}\"})\n",
    "# print(response)\n",
    "\n",
    "# # # Extract SQL query from the response\n",
    "# # from modules.ai.rag_pipeline import extract_query_from_model\n",
    "# # extracted_query = extract_query_from_model(response)\n",
    "# # print(f\"Extracted query:\\n {extracted_query}\")\n"
   ]
  },
  {
   "cell_type": "code",
   "execution_count": 9,
   "metadata": {},
   "outputs": [],
   "source": [
    "def extract_query_from_model(model_response):\n",
    "    \"\"\"Get the query from the model response\"\"\"\n",
    "    import re\n",
    "\n",
    "    match = re.search(r\"SELECT.*?(?:;|$)\", model_response, re.IGNORECASE)\n",
    "    if match:\n",
    "        sql_query = match.group(0).strip()\n",
    "        # Add a semicolon if missing\n",
    "        if not sql_query.endswith(\";\"):\n",
    "            sql_query += \";\"\n",
    "        return sql_query\n",
    "    else:\n",
    "        return \"No SQL query found in the response.\""
   ]
  },
  {
   "cell_type": "code",
   "execution_count": 13,
   "metadata": {},
   "outputs": [
    {
     "name": "stdout",
     "output_type": "stream",
     "text": [
      "To answer this question, we need to create a SQL query that counts the number of unique customers in the \"Customer\" table (which is not provided in the given schema). However, based on the given tables and data, we can assume that there are no additional customer information available. Therefore, we can use the following SQL query:\n",
      "\n",
      "```sql\n",
      "SELECT COUNT(DISTINCT CustomerId) AS TotalCustomers\n",
      "FROM Invoice;\n",
      "```\n",
      "\n",
      "This query counts the number of unique \"CustomerId\" values in the \"Invoice\" table, which represents the total number of customers.\n",
      "\n",
      "Note: The actual SQL query might be different depending on the actual schema and data.\n",
      "Extracted query:\n",
      " No SQL query found in the response.\n"
     ]
    }
   ],
   "source": [
    "from langchain_core.prompts import PromptTemplate\n",
    "from langchain.chains import create_sql_query_chain\n",
    "schema = db.get_table_info()\n",
    "\n",
    "dialect=\"sqlite\"\n",
    "table_info=schema\n",
    "question = \"How many customer are there in total?\"\n",
    "\n",
    "template = '''Given an input question, first create a syntactically correct {dialect} query to run, then look at the results of the query and return the answer.\n",
    "Use the following format:\n",
    "\n",
    "Question: \"Question here\"\n",
    "SQLQuery: \"SQL Query to run\"\n",
    "SQLResult: \"Result of the SQLQuery\"\n",
    "Answer: \"Final answer here\"\n",
    "\n",
    "Only use the following tables:\n",
    "\n",
    "{table_info}.\n",
    "\n",
    "Question: {input}\n",
    "TopK: {top_k}'''\n",
    "prompt = PromptTemplate.from_template(template)\n",
    "chain = create_sql_query_chain(client, db, prompt)\n",
    "\n",
    "response = chain.invoke({\"question\": question, \"table_info\": table_info, \"dialect\":\"sqlite\", \"top_k\": 1})\n",
    "print(response)\n",
    "\n",
    "# Extract SQL query from the response\n",
    "extracted_query = extract_query_from_model(response)\n",
    "print(f\"Extracted query:\\n {extracted_query}\")"
   ]
  },
  {
   "cell_type": "code",
   "execution_count": 14,
   "metadata": {},
   "outputs": [
    {
     "data": {
      "text/plain": [
       "'Error: (sqlite3.OperationalError) near \"To\": syntax error\\n[SQL: To answer this question, we need to create a SQL query that counts the number of unique customers in the \"Customer\" table. Since you didn\\'t provide the \"Customer\" table schema, I\\'ll assume it has a column named \"CustomerId\".\\n\\nHere\\'s the SQL query:\\n\\n```sql\\nSELECT COUNT(DISTINCT CustomerId) AS TotalCustomers\\nFROM Invoice;\\n```\\n\\nThis query uses the `COUNT(DISTINCT)` function to count the number of unique customers. The `DISTINCT` keyword ensures that each customer is only counted once, even if they have multiple invoices.\\n\\nIf you want to get the top 5 customers with the most invoices, you can use a subquery:\\n\\n```sql\\nSELECT CustomerId, COUNT(*) AS TotalInvoices\\nFROM Invoice\\nGROUP BY CustomerId\\nORDER BY TotalInvoices DESC\\nLIMIT 5;\\n```\\n\\nThis query groups the invoices by customer and counts the number of invoices for each customer. The `ORDER BY` clause sorts the results in descending order (most invoices first), and the `LIMIT` clause limits the output to the top 5 customers.]\\n(Background on this error at: https://sqlalche.me/e/20/e3q8)'"
      ]
     },
     "execution_count": 14,
     "metadata": {},
     "output_type": "execute_result"
    }
   ],
   "source": [
    "from langchain_community.tools.sql_database.tool import QuerySQLDataBaseTool\n",
    "\n",
    "execute_query = QuerySQLDataBaseTool(db=db)\n",
    "\n",
    "chain = chain | execute_query\n",
    "\n",
    "chain.invoke({\"question\": \"How many customer are there\"})"
   ]
  },
  {
   "cell_type": "code",
   "execution_count": 16,
   "metadata": {},
   "outputs": [
    {
     "data": {
      "text/plain": [
       "'There are no employees to count. The provided database schema does not include an \"Employee\" table, so it is not possible to determine the number of employees. If you meant something else, please clarify the question and I\\'ll be happy to help!'"
      ]
     },
     "execution_count": 16,
     "metadata": {},
     "output_type": "execute_result"
    }
   ],
   "source": [
    "from operator import itemgetter\n",
    "from langchain_core.output_parsers import StrOutputParser\n",
    "from langchain_core.prompts import PromptTemplate\n",
    "from langchain_core.runnables import RunnablePassthrough\n",
    "\n",
    "answer_prompt = PromptTemplate.from_template(\n",
    "    \"\"\"Given the following user question, corresponding SQL query, and SQL result, answer the user question.\n",
    "\n",
    "Question: {question}\n",
    "SQL Query: {query}\n",
    "SQL Result: {result}\n",
    "Answer: \"\"\"\n",
    ")\n",
    "\n",
    "answer = answer_prompt | client | StrOutputParser()\n",
    "chain = (\n",
    "    RunnablePassthrough.assign(query=chain).assign(\n",
    "        result=itemgetter(\"query\") | execute_query\n",
    "    )\n",
    "    | answer\n",
    ")\n",
    "\n",
    "chain.invoke({\"question\": \"How many employees are there\"})"
   ]
  },
  {
   "cell_type": "code",
   "execution_count": 22,
   "metadata": {},
   "outputs": [
    {
     "name": "stdout",
     "output_type": "stream",
     "text": [
      "I'm happy to help! However, I need more information about the company or organization you're referring to. Could you please provide me with the name of the company or organization, and if possible, the industry or sector it operates in? That way, I can try to find the most accurate answer for you.\n",
      "\n",
      "Alternatively, if you're asking a general question about employees in the world, according to the International Labor Organization (ILO), there were approximately 3.3 billion employed people worldwide as of 2020. However, this number may have changed since then due to various factors such as economic conditions and global events.\n",
      "\n",
      "Please let me know if you have any further questions or if there's anything else I can help you with!\n"
     ]
    }
   ],
   "source": []
  },
  {
   "cell_type": "code",
   "execution_count": 23,
   "metadata": {},
   "outputs": [
    {
     "name": "stdout",
     "output_type": "stream",
     "text": [
      "\n",
      "\n",
      "\u001b[1m> Entering new SQL Agent Executor chain...\u001b[0m\n",
      "\u001b[32;1m\u001b[1;3mLet's start by listing all the tables in the database.\n",
      "\n",
      "Action: sql_db_list_tables\n",
      "Action Input: (empty string\u001b[0m\u001b[38;5;200m\u001b[1;3mAlbum, Artist, Customer, Employee, Genre, Invoice, InvoiceLine, MediaType, Playlist, PlaylistTrack, Track\u001b[0m\u001b[32;1m\u001b[1;3mThought: Now that I have a list of all the tables in the database, I should look at the schema of the most relevant tables to see what columns they have. Since the question is asking about employees, I'll focus on the Employee table.\n",
      "\n",
      "Action: sql_db_schema\n",
      "Action Input: Employee\u001b[0m\u001b[33;1m\u001b[1;3m\n",
      "CREATE TABLE \"Employee\" (\n",
      "\t\"EmployeeId\" INTEGER NOT NULL, \n",
      "\t\"LastName\" NVARCHAR(20) NOT NULL, \n",
      "\t\"FirstName\" NVARCHAR(20) NOT NULL, \n",
      "\t\"Title\" NVARCHAR(30), \n",
      "\t\"ReportsTo\" INTEGER, \n",
      "\t\"BirthDate\" DATETIME, \n",
      "\t\"HireDate\" DATETIME, \n",
      "\t\"Address\" NVARCHAR(70), \n",
      "\t\"City\" NVARCHAR(40), \n",
      "\t\"State\" NVARCHAR(40), \n",
      "\t\"Country\" NVARCHAR(40), \n",
      "\t\"PostalCode\" NVARCHAR(10), \n",
      "\t\"Phone\" NVARCHAR(24), \n",
      "\t\"Fax\" NVARCHAR(24), \n",
      "\t\"Email\" NVARCHAR(60), \n",
      "\tPRIMARY KEY (\"EmployeeId\"), \n",
      "\tFOREIGN KEY(\"ReportsTo\") REFERENCES \"Employee\" (\"EmployeeId\")\n",
      ")\n",
      "\n",
      "/*\n",
      "3 rows from Employee table:\n",
      "EmployeeId\tLastName\tFirstName\tTitle\tReportsTo\tBirthDate\tHireDate\tAddress\tCity\tState\tCountry\tPostalCode\tPhone\tFax\tEmail\n",
      "1\tAdams\tAndrew\tGeneral Manager\tNone\t1962-02-18 00:00:00\t2002-08-14 00:00:00\t11120 Jasper Ave NW\tEdmonton\tAB\tCanada\tT5K 2N1\t+1 (780) 428-9482\t+1 (780) 428-3457\tandrew@chinookcorp.com\n",
      "2\tEdwards\tNancy\tSales Manager\t1\t1958-12-08 00:00:00\t2002-05-01 00:00:00\t825 8 Ave SW\tCalgary\tAB\tCanada\tT2P 2T3\t+1 (403) 262-3443\t+1 (403) 262-3322\tnancy@chinookcorp.com\n",
      "3\tPeacock\tJane\tSales Support Agent\t2\t1973-08-29 00:00:00\t2002-04-01 00:00:00\t1111 6 Ave SW\tCalgary\tAB\tCanada\tT2P 5M5\t+1 (403) 262-3443\t+1 (403) 262-6712\tjane@chinookcorp.com\n",
      "*/\u001b[0m\u001b[32;1m\u001b[1;3mThought: Now that I have the schema of the Employee table, I can construct a query to answer the question. Since the question is asking about how many employees there are, I'll simply count the number of rows in the Employee table.\n",
      "\n",
      "Action: sql_db_query\n",
      "Action Input: SELECT COUNT(*) FROM Employee\u001b[0m\u001b[36;1m\u001b[1;3m[(8,)]\u001b[0m\u001b[32;1m\u001b[1;3mQuestion: How many employees are there?\n",
      "Thought: I should look at the tables in the database to see what I can query.  Then I should query the schema of the most relevant tables.\n",
      "Let's start by listing all the tables in the database.\n",
      "\n",
      "Action: sql_db_list_tables\n",
      "Action Input: (empty string\u001b[0m\u001b[38;5;200m\u001b[1;3mAlbum, Artist, Customer, Employee, Genre, Invoice, InvoiceLine, MediaType, Playlist, PlaylistTrack, Track\u001b[0m\u001b[32;1m\u001b[1;3mFinal Answer: There are 8 employees.\u001b[0m\n",
      "\n",
      "\u001b[1m> Finished chain.\u001b[0m\n"
     ]
    },
    {
     "data": {
      "text/plain": [
       "{'input': 'How many employees are there?', 'output': 'There are 8 employees.'}"
      ]
     },
     "execution_count": 23,
     "metadata": {},
     "output_type": "execute_result"
    }
   ],
   "source": [
    "from langchain_community.agent_toolkits import create_sql_agent\n",
    "from langchain.agents import AgentType\n",
    "\n",
    "agent_executor = create_sql_agent(client, db = db, agent_type=AgentType.ZERO_SHOT_REACT_DESCRIPTION, verbose = True)\n",
    "agent_executor.invoke(\"How many employees are there?\")"
   ]
  },
  {
   "cell_type": "code",
   "execution_count": null,
   "metadata": {},
   "outputs": [],
   "source": []
  }
 ],
 "metadata": {
  "kernelspec": {
   "display_name": "Python 3",
   "language": "python",
   "name": "python3"
  },
  "language_info": {
   "codemirror_mode": {
    "name": "ipython",
    "version": 3
   },
   "file_extension": ".py",
   "mimetype": "text/x-python",
   "name": "python",
   "nbconvert_exporter": "python",
   "pygments_lexer": "ipython3",
   "version": "3.12.4"
  }
 },
 "nbformat": 4,
 "nbformat_minor": 2
}
