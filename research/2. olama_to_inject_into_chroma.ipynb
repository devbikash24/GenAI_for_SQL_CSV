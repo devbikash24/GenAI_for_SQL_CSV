{
 "cells": [
  {
   "cell_type": "markdown",
   "metadata": {},
   "source": [
    "Generate Embeddings using Ollama LLaMA3"
   ]
  },
  {
   "cell_type": "code",
   "execution_count": 1,
   "metadata": {},
   "outputs": [],
   "source": [
    "import pandas as pd\n",
    "\n",
    "# Example DataFrame\n",
    "data = {\n",
    "    'Column1': ['Text 1', 'Text 2', 'Text 3'],\n",
    "    'Column2': ['Additional text 1', 'Additional text 2', 'Additional text 3'],\n",
    "    'Column3': ['Metadata 1', 'Metadata 2', 'Metadata 3'],\n",
    "    'Column4': ['Label 1', 'Label 2', 'Label 3']\n",
    "}\n",
    "\n",
    "df = pd.DataFrame(data)\n"
   ]
  },
  {
   "cell_type": "code",
   "execution_count": 2,
   "metadata": {},
   "outputs": [],
   "source": [
    "df['combined_text'] = df['Column1'] + ' ' + df['Column2']\n"
   ]
  },
  {
   "cell_type": "code",
   "execution_count": 3,
   "metadata": {},
   "outputs": [
    {
     "name": "stderr",
     "output_type": "stream",
     "text": [
      "C:\\Users\\LENOVO\\AppData\\Roaming\\Python\\Python312\\site-packages\\transformers\\tokenization_utils_base.py:1601: FutureWarning: `clean_up_tokenization_spaces` was not set. It will be set to `True` by default. This behavior will be depracted in transformers v4.45, and will be then set to `False` by default. For more details check this issue: https://github.com/huggingface/transformers/issues/31884\n",
      "  warnings.warn(\n"
     ]
    }
   ],
   "source": [
    "from langchain_community.llms import Ollama\n",
    "from sentence_transformers import SentenceTransformer\n",
    "\n",
    "# Initialize the Ollama model\n",
    "llama3 = Ollama(model=\"llama3\")\n",
    "embedding_model = SentenceTransformer('all-MiniLM-L6-v2')\n",
    "\n",
    "# Generate embeddings\n",
    "df['embeddings'] = df['combined_text'].apply(lambda x: embedding_model.encode(x))\n"
   ]
  },
  {
   "cell_type": "markdown",
   "metadata": {},
   "source": []
  },
  {
   "cell_type": "code",
   "execution_count": 4,
   "metadata": {},
   "outputs": [
    {
     "data": {
      "text/plain": [
       "0    [-0.008153303, 0.027126355, 0.009897539, 0.039...\n",
       "1    [0.01855267, 0.04531752, 0.015019432, 0.040201...\n",
       "2    [-0.020240506, 0.01578366, -0.03580045, 0.0033...\n",
       "Name: embeddings, dtype: object"
      ]
     },
     "execution_count": 4,
     "metadata": {},
     "output_type": "execute_result"
    }
   ],
   "source": [
    "df['embeddings']"
   ]
  },
  {
   "cell_type": "code",
   "execution_count": 5,
   "metadata": {},
   "outputs": [],
   "source": [
    "import chromadb\n",
    "\n",
    "# try:\n",
    "#     client = chromadb.Client()\n",
    "# except Exception as e:\n",
    "#     print(f\"Failed to initialize ChromaDB client: {e}\")\n",
    "#     raise\n",
    "\n",
    "# # Create or connect to a collection in ChromaDB\n",
    "# try:\n",
    "#     collection_name = \"my_collection\"\n",
    "#     collection = client.create_collection(name=collection_name)\n",
    "# except Exception as e:\n",
    "#     print(f\"Failed to create or connect to collection: {e}\")\n",
    "#     raise\n",
    "\n",
    "# Initialize ChromaDB PersistentClient\n",
    "try:\n",
    "    client = chromadb.PersistentClient(path=\"my_chroma_db\")\n",
    "except Exception as e:\n",
    "    print(f\"Failed to initialize ChromaDB PersistentClient: {e}\")\n",
    "    raise\n",
    "\n",
    "# Create or connect to a collection in ChromaDB\n",
    "try:\n",
    "    collection_name = \"my_collection\"\n",
    "    collection = client.get_or_create_collection(name=collection_name)\n",
    "except Exception as e:\n",
    "    print(f\"Failed to create or connect to collection: {e}\")\n",
    "    raise"
   ]
  },
  {
   "cell_type": "code",
   "execution_count": 6,
   "metadata": {},
   "outputs": [
    {
     "data": {
      "text/plain": [
       "Collection(id=2ec75675-6a2f-4650-81b1-c0d3186fc855, name=my_collection)"
      ]
     },
     "execution_count": 6,
     "metadata": {},
     "output_type": "execute_result"
    }
   ],
   "source": [
    "collection"
   ]
  },
  {
   "cell_type": "code",
   "execution_count": 7,
   "metadata": {},
   "outputs": [
    {
     "name": "stdout",
     "output_type": "stream",
     "text": [
      "Processing index: 0\n",
      "Processing index: 1\n",
      "Processing index: 2\n"
     ]
    }
   ],
   "source": [
    "# Inject data into ChromaDB\n",
    "import numpy as np\n",
    "for idx, row in df.iterrows():\n",
    "    embedding_list = row['embeddings'].tolist() if isinstance(row['embeddings'], np.ndarray) else row['embeddings']\n",
    "    print(f\"Processing index: {idx}\")  # Debugging statement\n",
    "    try:\n",
    "        collection.add(\n",
    "            embeddings=[embedding_list],  # List of embeddings\n",
    "            metadatas=[{\n",
    "                \"Column3\": row['Column3'],  # Add any metadata you want to store\n",
    "                \"Column4\": row['Column4']\n",
    "            }],\n",
    "            ids=[str(idx)]  # Unique ID for each entry\n",
    "        )\n",
    "    except Exception as e:\n",
    "        print(f\"Failed to add data to collection at index {idx}: {e}\")\n",
    "        raise"
   ]
  },
  {
   "cell_type": "code",
   "execution_count": 11,
   "metadata": {},
   "outputs": [
    {
     "name": "stdout",
     "output_type": "stream",
     "text": [
      "{'ids': [['0', '1']], 'distances': [[1.311300161526672, 1.324933541568284]], 'metadatas': [[{'Column3': 'Metadata 1', 'Column4': 'Label 1'}, {'Column3': 'Metadata 2', 'Column4': 'Label 2'}]], 'embeddings': None, 'documents': [[None, None]], 'uris': None, 'data': None, 'included': ['metadatas', 'documents', 'distances']}\n"
     ]
    }
   ],
   "source": [
    "query_text = \"Your query text here\"\n",
    "query_embedding = embedding_model.encode(query_text).tolist()\n",
    "\n",
    "results = collection.query(\n",
    "    query_embeddings=[query_embedding],\n",
    "    n_results=2  # Number of closest matches to return\n",
    ")\n",
    "\n",
    "print(results)\n"
   ]
  },
  {
   "cell_type": "code",
   "execution_count": null,
   "metadata": {},
   "outputs": [],
   "source": []
  }
 ],
 "metadata": {
  "kernelspec": {
   "display_name": "Python 3",
   "language": "python",
   "name": "python3"
  },
  "language_info": {
   "codemirror_mode": {
    "name": "ipython",
    "version": 3
   },
   "file_extension": ".py",
   "mimetype": "text/x-python",
   "name": "python",
   "nbconvert_exporter": "python",
   "pygments_lexer": "ipython3",
   "version": "3.12.4"
  }
 },
 "nbformat": 4,
 "nbformat_minor": 2
}
